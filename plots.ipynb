{
 "cells": [
  {
   "cell_type": "code",
   "execution_count": null,
   "metadata": {},
   "outputs": [],
   "source": [
    "from matplotlib import pyplot as plt\n",
    "import numpy as np\n",
    "import pandas as pd\n",
    "import matplotlib.pyplot as plt\n",
    "import seaborn as sns"
   ]
  },
  {
   "cell_type": "code",
   "execution_count": null,
   "metadata": {},
   "outputs": [],
   "source": [
    "# Get RPM values by file_id\n",
    "\n",
    "import glob\n",
    "files = glob.glob(\"/home/marcelo/Documents/UTEM/Research/cancer/gdc_download_20210427_234814.548111/*/*.mirbase21.mirnas.quantification.txt\")\n",
    "RPM={}\n",
    "for file in files:\n",
    "    data = pd.read_csv(file, sep='\\t', lineterminator='\\n')\n",
    "    rpm = data[ data[\"miRNA_ID\"]==\"hsa-mir-149\" ][\"reads_per_million_miRNA_mapped\"].values[0]\n",
    "    file_id = file.split(\"/\")[-2]\n",
    "    RPM[file_id] = rpm"
   ]
  },
  {
   "cell_type": "code",
   "execution_count": null,
   "metadata": {},
   "outputs": [],
   "source": [
    "# Get stage by case id\n",
    "file = \"/home/marcelo/Documents/UTEM/Research/cancer/clinical.cart.2021-04-27/clinical.tsv\"\n",
    "data = pd.read_csv(file, sep='\\t', lineterminator='\\n')\n",
    "\n",
    "stages={}\n",
    "for index, row in data.iterrows():\n",
    "    stages[row[\"case_submitter_id\"]] = row[\"tumor_stage\"]"
   ]
  },
  {
   "cell_type": "code",
   "execution_count": null,
   "metadata": {},
   "outputs": [],
   "source": [
    "# Get file id by case id\n",
    "file = \"/home/marcelo/Documents/UTEM/Research/cancer/gdc_sample_sheet.2021-04-27.tsv\"\n",
    "data = pd.read_csv(file, sep='\\t', lineterminator='\\n')\n",
    "\n",
    "cases={}\n",
    "for index, row in data.iterrows():\n",
    "    cases[row[\"Case ID\"]] = row[\"File ID\"]"
   ]
  },
  {
   "cell_type": "code",
   "execution_count": null,
   "metadata": {},
   "outputs": [],
   "source": [
    "# Create a data frame for stage and rpm\n",
    "stageID,rpmValues=[],[]\n",
    "for caseID in stages:\n",
    "    stage = stages[caseID]\n",
    "    fileID = cases[caseID]\n",
    "    rpm    = (RPM[fileID])\n",
    "    rpmValues.append(rpm)\n",
    "    if stage=='stage i' or stage=='stage ia' or stage=='stage ib':\n",
    "        stageID.append(\"I\") #stageI.append(rpm)\n",
    "    elif stage=='stage ii' or stage=='stage iia' or stage=='stage iib':\n",
    "        stageID.append(\"II\") #stageII.append(rpm)   \n",
    "    elif stage=='stage iii' or stage=='stage iiia' or stage=='stage iiib' or stage=='stage iiic':\n",
    "        stageID.append(\"III\") #stageIII.append(rpm)  \n",
    "    elif stage=='stage iv':\n",
    "        stageID.append(\"IV\") #stageIV.append(rpm)     \n",
    "    elif stage=='stage x':\n",
    "        stageID.append(\"X\") #stageX.append(rpm)  \n",
    "    else:\n",
    "        stageID.append(\"None\")\n",
    "        \n",
    "dataF = pd.DataFrame( data = {'Stage': stageID, 'RPM': rpmValues})"
   ]
  },
  {
   "cell_type": "code",
   "execution_count": null,
   "metadata": {},
   "outputs": [],
   "source": [
    "#Plot results\n",
    "\n",
    "sns.set_style(\"whitegrid\")\n",
    "tips = sns.load_dataset(\"tips\")\n",
    "ax = sns.swarmplot(x=\"Stage\", y=\"RPM\", data=dataF,order=[\"I\",\"II\",\"III\",\"IV\",\"X\",\"None\"]).set_title(\"miR-149\")\n",
    "\n",
    "# ax = sns.boxplot(x=\"Stage\", y=\"RPM\", data=dataF,\n",
    "#         showcaps=False,boxprops={'facecolor':'None'},\n",
    "#         showfliers=False,whiskerprops={'linewidth':0})\n",
    "\n",
    "\n",
    "plt.savefig(\"mir149.svg\")"
   ]
  },
  {
   "cell_type": "code",
   "execution_count": null,
   "metadata": {},
   "outputs": [],
   "source": [
    "# Get number of samples per stage\n",
    "\n",
    "dups_shape = dataF.pivot_table(index=['Stage'], aggfunc='size')\n",
    "print (dups_shape)"
   ]
  },
  {
   "cell_type": "code",
   "execution_count": null,
   "metadata": {},
   "outputs": [],
   "source": []
  }
 ],
 "metadata": {
  "kernelspec": {
   "display_name": "Python 3",
   "language": "python",
   "name": "python3"
  },
  "language_info": {
   "codemirror_mode": {
    "name": "ipython",
    "version": 3
   },
   "file_extension": ".py",
   "mimetype": "text/x-python",
   "name": "python",
   "nbconvert_exporter": "python",
   "pygments_lexer": "ipython3",
   "version": "3.7.6"
  }
 },
 "nbformat": 4,
 "nbformat_minor": 4
}
