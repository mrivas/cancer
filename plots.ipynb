{
 "cells": [
  {
   "cell_type": "code",
   "execution_count": 1,
   "metadata": {},
   "outputs": [],
   "source": [
    "from matplotlib import pyplot as plt\n",
    "import numpy as np\n",
    "import pandas as pd\n",
    "import matplotlib.pyplot as plt\n",
    "import seaborn as sns\n",
    "\n",
    "geneName=\"hsa-mir-145\"\n",
    "#geneName=\"hsa-mir-149\""
   ]
  },
  {
   "cell_type": "code",
   "execution_count": 2,
   "metadata": {},
   "outputs": [],
   "source": [
    "# Get RPM values by file_id\n",
    "\n",
    "import glob\n",
    "files = glob.glob(\"/home/marcelo/Documents/UTEM/Research/cancer/gdc_download_20210427_234814.548111/*/*.mirbase21.mirnas.quantification.txt\")\n",
    "RPM={}\n",
    "for file in files:\n",
    "    data = pd.read_csv(file, sep='\\t', lineterminator='\\n')\n",
    "    rpm = data[ data[\"miRNA_ID\"]==geneName ][\"reads_per_million_miRNA_mapped\"].values[0]\n",
    "    file_id = file.split(\"/\")[-2]\n",
    "    RPM[file_id] = rpm"
   ]
  },
  {
   "cell_type": "code",
   "execution_count": 6,
   "metadata": {},
   "outputs": [],
   "source": [
    "# Get stage by case id\n",
    "file = \"/home/marcelo/Documents/UTEM/Research/cancer/clinical.cart.2021-04-27/clinical.tsv\"\n",
    "data = pd.read_csv(file, sep='\\t', lineterminator='\\n')\n",
    "\n",
    "stages={}\n",
    "for index, row in data.iterrows():\n",
    "    #stages[row[\"case_id\"]] = row[\"tumor_stage\"]\n",
    "    stages[row[\"case_submitter_id\"]] = row[\"tumor_stage\"]"
   ]
  },
  {
   "cell_type": "code",
   "execution_count": null,
   "metadata": {},
   "outputs": [],
   "source": []
  },
  {
   "cell_type": "code",
   "execution_count": 7,
   "metadata": {},
   "outputs": [],
   "source": [
    "# Get file id by case id\n",
    "file = \"/home/marcelo/Documents/UTEM/Research/cancer/gdc_sample_sheet.2021-04-27.tsv\"\n",
    "data = pd.read_csv(file, sep='\\t', lineterminator='\\n')\n",
    "\n",
    "cases,cases_sampleType={},{}\n",
    "for index, row in data.iterrows():\n",
    "    cases[row[\"Case ID\"]] = row[\"File ID\"]\n",
    "    cases_sampleType[row[\"Case ID\"]] = row[\"Sample Type\"]"
   ]
  },
  {
   "cell_type": "code",
   "execution_count": 8,
   "metadata": {},
   "outputs": [
    {
     "name": "stdout",
     "output_type": "stream",
     "text": [
      "0\n"
     ]
    }
   ],
   "source": [
    "# Create a data frame for stage and rpm\n",
    "count=0\n",
    "\n",
    "stageID,rpmValues,sampleTypes=[],[],[]\n",
    "for caseID in stages:\n",
    "    stage = stages[caseID]\n",
    "    fileID = cases[caseID]\n",
    "    sampleType = cases_sampleType[caseID]\n",
    "    rpm    = (RPM[fileID])\n",
    "    rpmValues.append(rpm)\n",
    "    sampleTypes.append(sampleType)\n",
    "    \n",
    "    if stage=='stage i' or stage=='stage ia' or stage=='stage ib':\n",
    "        stageID.append(\"I\") #stageI.append(rpm)\n",
    "    elif stage=='stage ii' or stage=='stage iia' or stage=='stage iib':\n",
    "        stageID.append(\"II\") #stageII.append(rpm)   \n",
    "    elif stage=='stage iii' or stage=='stage iiia' or stage=='stage iiib' or stage=='stage iiic':\n",
    "        stageID.append(\"III\") #stageIII.append(rpm)  \n",
    "    elif stage=='stage iv':\n",
    "        stageID.append(\"IV\") #stageIV.append(rpm)     \n",
    "    elif stage=='stage x':\n",
    "        stageID.append(\"X\") #stageX.append(rpm)  \n",
    "    else:\n",
    "        stageID.append(\"None\")\n",
    "        \n",
    "dataF = pd.DataFrame( data = {'Stage': stageID, 'RPM': rpmValues, \"SampleType\": sampleTypes})\n",
    "\n",
    "print(count)"
   ]
  },
  {
   "cell_type": "code",
   "execution_count": 10,
   "metadata": {},
   "outputs": [
    {
     "data": {
      "text/html": [
       "<div>\n",
       "<style scoped>\n",
       "    .dataframe tbody tr th:only-of-type {\n",
       "        vertical-align: middle;\n",
       "    }\n",
       "\n",
       "    .dataframe tbody tr th {\n",
       "        vertical-align: top;\n",
       "    }\n",
       "\n",
       "    .dataframe thead th {\n",
       "        text-align: right;\n",
       "    }\n",
       "</style>\n",
       "<table border=\"1\" class=\"dataframe\">\n",
       "  <thead>\n",
       "    <tr style=\"text-align: right;\">\n",
       "      <th></th>\n",
       "      <th>Stage</th>\n",
       "      <th>RPM</th>\n",
       "      <th>SampleType</th>\n",
       "    </tr>\n",
       "  </thead>\n",
       "  <tbody>\n",
       "    <tr>\n",
       "      <th>0</th>\n",
       "      <td>I</td>\n",
       "      <td>3295.444519</td>\n",
       "      <td>Primary Tumor</td>\n",
       "    </tr>\n",
       "    <tr>\n",
       "      <th>1</th>\n",
       "      <td>III</td>\n",
       "      <td>19031.646632</td>\n",
       "      <td>Solid Tissue Normal</td>\n",
       "    </tr>\n",
       "    <tr>\n",
       "      <th>2</th>\n",
       "      <td>I</td>\n",
       "      <td>845.797545</td>\n",
       "      <td>Primary Tumor</td>\n",
       "    </tr>\n",
       "    <tr>\n",
       "      <th>3</th>\n",
       "      <td>III</td>\n",
       "      <td>2662.576714</td>\n",
       "      <td>Primary Tumor</td>\n",
       "    </tr>\n",
       "    <tr>\n",
       "      <th>4</th>\n",
       "      <td>II</td>\n",
       "      <td>480.615402</td>\n",
       "      <td>Primary Tumor</td>\n",
       "    </tr>\n",
       "    <tr>\n",
       "      <th>...</th>\n",
       "      <td>...</td>\n",
       "      <td>...</td>\n",
       "      <td>...</td>\n",
       "    </tr>\n",
       "    <tr>\n",
       "      <th>1029</th>\n",
       "      <td>IV</td>\n",
       "      <td>1010.370293</td>\n",
       "      <td>Primary Tumor</td>\n",
       "    </tr>\n",
       "    <tr>\n",
       "      <th>1030</th>\n",
       "      <td>II</td>\n",
       "      <td>799.223185</td>\n",
       "      <td>Primary Tumor</td>\n",
       "    </tr>\n",
       "    <tr>\n",
       "      <th>1031</th>\n",
       "      <td>II</td>\n",
       "      <td>832.170851</td>\n",
       "      <td>Primary Tumor</td>\n",
       "    </tr>\n",
       "    <tr>\n",
       "      <th>1032</th>\n",
       "      <td>II</td>\n",
       "      <td>1119.994075</td>\n",
       "      <td>Primary Tumor</td>\n",
       "    </tr>\n",
       "    <tr>\n",
       "      <th>1033</th>\n",
       "      <td>II</td>\n",
       "      <td>109.830863</td>\n",
       "      <td>Primary Tumor</td>\n",
       "    </tr>\n",
       "  </tbody>\n",
       "</table>\n",
       "<p>1034 rows × 3 columns</p>\n",
       "</div>"
      ],
      "text/plain": [
       "     Stage           RPM           SampleType\n",
       "0        I   3295.444519        Primary Tumor\n",
       "1      III  19031.646632  Solid Tissue Normal\n",
       "2        I    845.797545        Primary Tumor\n",
       "3      III   2662.576714        Primary Tumor\n",
       "4       II    480.615402        Primary Tumor\n",
       "...    ...           ...                  ...\n",
       "1029    IV   1010.370293        Primary Tumor\n",
       "1030    II    799.223185        Primary Tumor\n",
       "1031    II    832.170851        Primary Tumor\n",
       "1032    II   1119.994075        Primary Tumor\n",
       "1033    II    109.830863        Primary Tumor\n",
       "\n",
       "[1034 rows x 3 columns]"
      ]
     },
     "execution_count": 10,
     "metadata": {},
     "output_type": "execute_result"
    }
   ],
   "source": [
    "dataF"
   ]
  },
  {
   "cell_type": "code",
   "execution_count": 9,
   "metadata": {},
   "outputs": [
    {
     "data": {
      "image/png": "[encoded data removed]",
      "text/plain": [
       "<Figure size 432x288 with 1 Axes>"
      ]
     },
     "metadata": {
      "needs_background": "light"
     },
     "output_type": "display_data"
    }
   ],
   "source": [
    "order=[\"I\",\"I'\",\"II\",\"II'\",\"III\",\"III'\",\"IV\",\"IV'\"]#,\"X\",\"X'\",\"None\",\"None'\",]\n",
    "order=[\"I\",\"II\",\"III\",\"IV\"]#,\"X\",\"X'\",\"None\",\"None'\",]\n",
    "plt.figure()\n",
    "sns.set_style(\"whitegrid\")\n",
    "tips = sns.load_dataset(\"tips\")\n",
    "ax = sns.swarmplot(x=\"Stage\", y=\"RPM\", hue=\"SampleType\",dodge=True,  data=dataF,order=order).set_title(geneName)\n"
   ]
  },
  {
   "cell_type": "code",
   "execution_count": null,
   "metadata": {},
   "outputs": [],
   "source": [
    "#Plot results\n",
    "for i in range(3):\n",
    "    sampleCathegory = [\"Solid Tissue Normal\", \"Primary Tumor\", \"Metastatic\"]\n",
    "    dataX= dataF[ dataF[\"SampleType\"] == sampleCathegory[i] ]\n",
    "\n",
    "    plt.figure()\n",
    "    sns.set_style(\"whitegrid\")\n",
    "    tips = sns.load_dataset(\"tips\")\n",
    "    ax = sns.swarmplot(x=\"Stage\", y=\"RPM\",  data=dataX,order=[\"I\",\"II\",\"III\",\"IV\",\"X\",\"None\"]).set_title(\"miR-149\")\n",
    "\n",
    "# ax = sns.boxplot(x=\"Stage\", y=\"RPM\", data=dataF,\n",
    "#         showcaps=False,boxprops={'facecolor':'None'},\n",
    "#         showfliers=False,whiskerprops={'linewidth':0})\n",
    "\n",
    "\n",
    "#plt.savefig(\"mir149.svg\")"
   ]
  },
  {
   "cell_type": "code",
   "execution_count": null,
   "metadata": {},
   "outputs": [],
   "source": [
    "# Get number of samples per stage\n",
    "\n",
    "\n",
    "\n",
    "dups_shape = dataF.pivot_table(index=['Stage'], aggfunc='size')\n",
    "print (dups_shape)"
   ]
  },
  {
   "cell_type": "code",
   "execution_count": null,
   "metadata": {},
   "outputs": [],
   "source": [
    "dups_shape = dataF.pivot_table(index=['SampleType'], aggfunc='size')\n",
    "print (dups_shape)"
   ]
  },
  {
   "cell_type": "code",
   "execution_count": null,
   "metadata": {},
   "outputs": [],
   "source": []
  }
 ],
 "metadata": {
  "kernelspec": {
   "display_name": "Python 3",
   "language": "python",
   "name": "python3"
  },
  "language_info": {
   "codemirror_mode": {
    "name": "ipython",
    "version": 3
   },
   "file_extension": ".py",
   "mimetype": "text/x-python",
   "name": "python",
   "nbconvert_exporter": "python",
   "pygments_lexer": "ipython3",
   "version": "3.7.6"
  }
 },
 "nbformat": 4,
 "nbformat_minor": 4
}
